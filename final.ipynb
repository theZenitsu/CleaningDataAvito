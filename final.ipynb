{
 "cells": [
  {
   "cell_type": "code",
   "execution_count": 30,
   "metadata": {},
   "outputs": [
    {
     "ename": "ModuleNotFoundError",
     "evalue": "No module named 'matplotlib'",
     "output_type": "error",
     "traceback": [
      "\u001b[0;31m---------------------------------------------------------------------------\u001b[0m",
      "\u001b[0;31mModuleNotFoundError\u001b[0m                       Traceback (most recent call last)",
      "Cell \u001b[0;32mIn[30], line 4\u001b[0m\n\u001b[1;32m      2\u001b[0m \u001b[38;5;28;01mimport\u001b[39;00m \u001b[38;5;21;01mre\u001b[39;00m\n\u001b[1;32m      3\u001b[0m \u001b[38;5;28;01mfrom\u001b[39;00m \u001b[38;5;21;01mscipy\u001b[39;00m\u001b[38;5;21;01m.\u001b[39;00m\u001b[38;5;21;01mstats\u001b[39;00m \u001b[38;5;28;01mimport\u001b[39;00m zscore\n\u001b[0;32m----> 4\u001b[0m \u001b[38;5;28;01mimport\u001b[39;00m \u001b[38;5;21;01mmatplotlib\u001b[39;00m\u001b[38;5;21;01m.\u001b[39;00m\u001b[38;5;21;01mpyplot\u001b[39;00m \u001b[38;5;28;01mas\u001b[39;00m \u001b[38;5;21;01mplt\u001b[39;00m\n\u001b[1;32m      6\u001b[0m \u001b[38;5;28;01mimport\u001b[39;00m \u001b[38;5;21;01mseaborn\u001b[39;00m \u001b[38;5;28;01mas\u001b[39;00m \u001b[38;5;21;01msns\u001b[39;00m\n",
      "\u001b[0;31mModuleNotFoundError\u001b[0m: No module named 'matplotlib'"
     ]
    }
   ],
   "source": [
    "import pandas as pd\n",
    "import re\n",
    "from scipy.stats import zscore\n",
    "import matplotlib.pyplot as plt\n",
    "\n",
    "import seaborn as sns\n",
    "\n"
   ]
  },
  {
   "cell_type": "code",
   "execution_count": 23,
   "metadata": {},
   "outputs": [
    {
     "data": {
      "text/plain": [
       "(             Data Type  Non-Null Count  Missing Values (%)\n",
       " Unnamed: 0       int64            1760            0.000000\n",
       " title           object            1400           20.454545\n",
       " price           object            1400           20.454545\n",
       " city            object            1400           20.454545\n",
       " datetime        object            1394           20.795455\n",
       " nb_rooms       float64            1193           32.215909\n",
       " nb_baths        object            1181           32.897727\n",
       " surface_area    object             990           43.750000\n",
       " equipement      object             868           50.681818\n",
       " link            object            1760            0.000000,\n",
       "    Unnamed: 0                                              title  \\\n",
       " 0           0   CMN-MA-1641 - Appartement à vendre à Val Fleurie   \n",
       " 1           1           Appartement à vendre 125 m² à Casablanca   \n",
       " 2           2  CMN-MA-1787 - Appartement à vendre à Les Hôpitaux   \n",
       " 3           3       Appartement à vendre 3 chambres Salon à Casa   \n",
       " 4           4                                                NaN   \n",
       " \n",
       "                price        city                datetime  nb_rooms nb_baths  \\\n",
       " 0       1 600 000 DH  Casablanca  11/6/2024, 12:12:49 PM       3.0        1   \n",
       " 1           9 900 DH  Casablanca  11/6/2024, 12:12:26 PM       2.0        2   \n",
       " 2       2 300 000 DH  Casablanca  11/6/2024, 12:10:48 PM       3.0        2   \n",
       " 3  PRIX NON SPÉCIFIÉ  Casablanca  11/6/2024, 12:10:57 PM       NaN      NaN   \n",
       " 4                NaN         NaN                     NaN       NaN      NaN   \n",
       " \n",
       "   surface_area                                         equipement  \\\n",
       " 0          132               Ascenseur, Balcon, Parking, Terrasse   \n",
       " 1          125  Balcon, Climatisation, Cuisine Équipée, Parkin...   \n",
       " 2          233               Ascenseur, Balcon, Parking, Terrasse   \n",
       " 3          NaN                                                NaN   \n",
       " 4          NaN                                                NaN   \n",
       " \n",
       "                                                 link  \n",
       " 0  https://www.avito.ma/fr/val_fleuri/appartement...  \n",
       " 1  https://www.avito.ma/fr/autre_secteur/appartem...  \n",
       " 2  https://www.avito.ma/fr/quartier_des_h%C3%B4pi...  \n",
       " 3  https://www.avito.ma/fr/ain_sebaa/appartements...  \n",
       " 4  https://immoneuf.avito.ma/fr/unite/l53?utm_sou...  )"
      ]
     },
     "execution_count": 23,
     "metadata": {},
     "output_type": "execute_result"
    }
   ],
   "source": [
    "# Load the new dataset\n",
    "new_file_path = '/home/corolo/Desktop/analysisAvito/data/avito_data.csv'\n",
    "new_data = pd.read_csv(new_file_path)\n",
    "\n",
    "# Display initial information about the dataset's structure\n",
    "new_data_info = new_data.dtypes.to_frame(name=\"Data Type\")\n",
    "new_data_info[\"Non-Null Count\"] = new_data.notnull().sum()\n",
    "new_data_info[\"Missing Values (%)\"] = (new_data.isnull().sum() / len(new_data)) * 100\n",
    "\n",
    "# Display the first few rows to understand column contents\n",
    "new_data_info, new_data.head()\n"
   ]
  },
  {
   "cell_type": "code",
   "execution_count": 24,
   "metadata": {},
   "outputs": [
    {
     "data": {
      "text/plain": [
       "count    1.193000e+03\n",
       "mean     2.014280e+06\n",
       "std      1.872560e+07\n",
       "min      3.500000e+01\n",
       "25%      5.600000e+05\n",
       "50%      1.050000e+06\n",
       "75%      1.720000e+06\n",
       "max      6.279000e+08\n",
       "Name: price_cleaned, dtype: float64"
      ]
     },
     "execution_count": 24,
     "metadata": {},
     "output_type": "execute_result"
    }
   ],
   "source": [
    "# Function to clean and convert the 'price' column to numerical format\n",
    "def clean_price(price):\n",
    "    if isinstance(price, str):\n",
    "        price = re.sub(r'[^\\d,]', '', price)  # Remove non-numeric characters except commas\n",
    "        price = price.replace(',', '')        # Remove commas for integer conversion\n",
    "        try:\n",
    "            return float(price)\n",
    "        except ValueError:\n",
    "            return None  # If conversion fails, return None\n",
    "    return price\n",
    "\n",
    "# Apply the cleaning function to the 'price' column\n",
    "new_data['price_cleaned'] = new_data['price'].apply(clean_price)\n",
    "\n",
    "# Display summary statistics of the cleaned 'price' column\n",
    "price_summary = new_data['price_cleaned'].describe()\n",
    "price_summary\n"
   ]
  },
  {
   "cell_type": "code",
   "execution_count": 25,
   "metadata": {},
   "outputs": [
    {
     "name": "stderr",
     "output_type": "stream",
     "text": [
      "/tmp/ipykernel_18165/2385758495.py:13: FutureWarning: A value is trying to be set on a copy of a DataFrame or Series through chained assignment using an inplace method.\n",
      "The behavior will change in pandas 3.0. This inplace method will never work because the intermediate object on which we are setting values always behaves as a copy.\n",
      "\n",
      "For example, when doing 'df[col].method(value, inplace=True)', try using 'df.method({col: value}, inplace=True)' or df[col] = df[col].method(value) instead, to perform the operation inplace on the original object.\n",
      "\n",
      "\n",
      "  new_data['type_de_vente'].fillna('louer', inplace=True)\n"
     ]
    },
    {
     "data": {
      "text/plain": [
       "np.int64(0)"
      ]
     },
     "execution_count": 25,
     "metadata": {},
     "output_type": "execute_result"
    }
   ],
   "source": [
    "# Function to impute 'type_de_vente' based on keywords in 'title'\n",
    "def infer_type_de_vente(title, current_type):\n",
    "    if pd.isnull(current_type):\n",
    "        # Check if any of the rental keywords appear in the title\n",
    "        if any(keyword in str(title).lower() for keyword in [\"louer\", \"loué\", \"location\"]):\n",
    "            return \"louer\"\n",
    "    return current_type\n",
    "\n",
    "# Apply the function to infer missing 'type_de_vente' values\n",
    "new_data['type_de_vente'] = new_data.apply(lambda row: infer_type_de_vente(row['title'], row.get('type_de_vente', None)), axis=1)\n",
    "\n",
    "# Fill any remaining NaN values in 'type_de_vente' with 'louer'\n",
    "new_data['type_de_vente'].fillna('louer', inplace=True)\n",
    "\n",
    "# Check if any NaN values remain in 'type_de_vente'\n",
    "type_de_vente_missing_final = new_data['type_de_vente'].isnull().sum()\n",
    "type_de_vente_missing_final\n"
   ]
  },
  {
   "cell_type": "code",
   "execution_count": 26,
   "metadata": {},
   "outputs": [
    {
     "name": "stderr",
     "output_type": "stream",
     "text": [
      "/tmp/ipykernel_18165/3304930343.py:6: FutureWarning: A value is trying to be set on a copy of a DataFrame or Series through chained assignment using an inplace method.\n",
      "The behavior will change in pandas 3.0. This inplace method will never work because the intermediate object on which we are setting values always behaves as a copy.\n",
      "\n",
      "For example, when doing 'df[col].method(value, inplace=True)', try using 'df.method({col: value}, inplace=True)' or df[col] = df[col].method(value) instead, to perform the operation inplace on the original object.\n",
      "\n",
      "\n",
      "  new_data['nb_rooms'].fillna(new_data['nb_rooms'].median(), inplace=True)\n",
      "/tmp/ipykernel_18165/3304930343.py:7: FutureWarning: A value is trying to be set on a copy of a DataFrame or Series through chained assignment using an inplace method.\n",
      "The behavior will change in pandas 3.0. This inplace method will never work because the intermediate object on which we are setting values always behaves as a copy.\n",
      "\n",
      "For example, when doing 'df[col].method(value, inplace=True)', try using 'df.method({col: value}, inplace=True)' or df[col] = df[col].method(value) instead, to perform the operation inplace on the original object.\n",
      "\n",
      "\n",
      "  new_data['nb_baths'].fillna(new_data['nb_baths'].median(), inplace=True)\n",
      "/tmp/ipykernel_18165/3304930343.py:11: FutureWarning: A value is trying to be set on a copy of a DataFrame or Series through chained assignment using an inplace method.\n",
      "The behavior will change in pandas 3.0. This inplace method will never work because the intermediate object on which we are setting values always behaves as a copy.\n",
      "\n",
      "For example, when doing 'df[col].method(value, inplace=True)', try using 'df.method({col: value}, inplace=True)' or df[col] = df[col].method(value) instead, to perform the operation inplace on the original object.\n",
      "\n",
      "\n",
      "  new_data['surface_area'].fillna(new_data['surface_area'].median(), inplace=True)\n"
     ]
    },
    {
     "data": {
      "text/plain": [
       "nb_rooms        0\n",
       "nb_baths        0\n",
       "surface_area    0\n",
       "dtype: int64"
      ]
     },
     "execution_count": 26,
     "metadata": {},
     "output_type": "execute_result"
    }
   ],
   "source": [
    "# Convert 'nb_baths' to numeric, handling non-numeric entries\n",
    "new_data['nb_baths'] = pd.to_numeric(new_data['nb_baths'], errors='coerce')\n",
    "\n",
    "# Impute missing values\n",
    "# For 'nb_rooms' and 'nb_baths', using median imputation\n",
    "new_data['nb_rooms'].fillna(new_data['nb_rooms'].median(), inplace=True)\n",
    "new_data['nb_baths'].fillna(new_data['nb_baths'].median(), inplace=True)\n",
    "\n",
    "# For 'surface_area', using median imputation due to high missing percentage\n",
    "new_data['surface_area'] = pd.to_numeric(new_data['surface_area'], errors='coerce')\n",
    "new_data['surface_area'].fillna(new_data['surface_area'].median(), inplace=True)\n",
    "\n",
    "# Verify if any NaN values remain in the imputed columns\n",
    "remaining_missing_values = new_data[['nb_rooms', 'nb_baths', 'surface_area']].isnull().sum()\n",
    "remaining_missing_values\n"
   ]
  },
  {
   "cell_type": "code",
   "execution_count": 27,
   "metadata": {},
   "outputs": [
    {
     "data": {
      "text/html": [
       "<div>\n",
       "<style scoped>\n",
       "    .dataframe tbody tr th:only-of-type {\n",
       "        vertical-align: middle;\n",
       "    }\n",
       "\n",
       "    .dataframe tbody tr th {\n",
       "        vertical-align: top;\n",
       "    }\n",
       "\n",
       "    .dataframe thead th {\n",
       "        text-align: right;\n",
       "    }\n",
       "</style>\n",
       "<table border=\"1\" class=\"dataframe\">\n",
       "  <thead>\n",
       "    <tr style=\"text-align: right;\">\n",
       "      <th></th>\n",
       "      <th>price_cleaned</th>\n",
       "      <th>nb_rooms</th>\n",
       "      <th>nb_baths</th>\n",
       "      <th>surface_area</th>\n",
       "    </tr>\n",
       "  </thead>\n",
       "  <tbody>\n",
       "    <tr>\n",
       "      <th>count</th>\n",
       "      <td>1.193000e+03</td>\n",
       "      <td>1760.000000</td>\n",
       "      <td>1760.000000</td>\n",
       "      <td>1760.000000</td>\n",
       "    </tr>\n",
       "    <tr>\n",
       "      <th>mean</th>\n",
       "      <td>1.284602e+06</td>\n",
       "      <td>2.259091</td>\n",
       "      <td>1.746591</td>\n",
       "      <td>101.844398</td>\n",
       "    </tr>\n",
       "    <tr>\n",
       "      <th>std</th>\n",
       "      <td>9.955933e+05</td>\n",
       "      <td>0.606884</td>\n",
       "      <td>0.541081</td>\n",
       "      <td>39.868676</td>\n",
       "    </tr>\n",
       "    <tr>\n",
       "      <th>min</th>\n",
       "      <td>3.500000e+01</td>\n",
       "      <td>1.000000</td>\n",
       "      <td>0.000000</td>\n",
       "      <td>11.000000</td>\n",
       "    </tr>\n",
       "    <tr>\n",
       "      <th>25%</th>\n",
       "      <td>5.600000e+05</td>\n",
       "      <td>2.000000</td>\n",
       "      <td>1.000000</td>\n",
       "      <td>88.000000</td>\n",
       "    </tr>\n",
       "    <tr>\n",
       "      <th>50%</th>\n",
       "      <td>1.050000e+06</td>\n",
       "      <td>2.000000</td>\n",
       "      <td>2.000000</td>\n",
       "      <td>96.000000</td>\n",
       "    </tr>\n",
       "    <tr>\n",
       "      <th>75%</th>\n",
       "      <td>1.720000e+06</td>\n",
       "      <td>3.000000</td>\n",
       "      <td>2.000000</td>\n",
       "      <td>104.000000</td>\n",
       "    </tr>\n",
       "    <tr>\n",
       "      <th>max</th>\n",
       "      <td>5.512800e+06</td>\n",
       "      <td>4.000000</td>\n",
       "      <td>3.000000</td>\n",
       "      <td>288.230000</td>\n",
       "    </tr>\n",
       "  </tbody>\n",
       "</table>\n",
       "</div>"
      ],
      "text/plain": [
       "       price_cleaned     nb_rooms     nb_baths  surface_area\n",
       "count   1.193000e+03  1760.000000  1760.000000   1760.000000\n",
       "mean    1.284602e+06     2.259091     1.746591    101.844398\n",
       "std     9.955933e+05     0.606884     0.541081     39.868676\n",
       "min     3.500000e+01     1.000000     0.000000     11.000000\n",
       "25%     5.600000e+05     2.000000     1.000000     88.000000\n",
       "50%     1.050000e+06     2.000000     2.000000     96.000000\n",
       "75%     1.720000e+06     3.000000     2.000000    104.000000\n",
       "max     5.512800e+06     4.000000     3.000000    288.230000"
      ]
     },
     "execution_count": 27,
     "metadata": {},
     "output_type": "execute_result"
    }
   ],
   "source": [
    "\n",
    "\n",
    "# Calculate Z-scores for outlier detection in the 'price_cleaned', 'nb_rooms', 'nb_baths', and 'surface_area' columns\n",
    "outlier_columns = ['price_cleaned', 'nb_rooms', 'nb_baths', 'surface_area']\n",
    "for col in outlier_columns:\n",
    "    # Apply Z-score method to identify outliers (Z > 3)\n",
    "    new_data[f'{col}_zscore'] = zscore(new_data[col].fillna(new_data[col].mean()))\n",
    "    # Cap outliers beyond the 99th percentile\n",
    "    cap = new_data[col].quantile(0.99)\n",
    "    new_data[col] = new_data[col].apply(lambda x: min(x, cap) if pd.notnull(x) else x)\n",
    "\n",
    "# Verify by displaying capped values summary\n",
    "capped_values_summary = new_data[outlier_columns].describe()\n",
    "capped_values_summary\n"
   ]
  },
  {
   "cell_type": "code",
   "execution_count": 29,
   "metadata": {},
   "outputs": [
    {
     "data": {
      "text/html": [
       "<div>\n",
       "<style scoped>\n",
       "    .dataframe tbody tr th:only-of-type {\n",
       "        vertical-align: middle;\n",
       "    }\n",
       "\n",
       "    .dataframe tbody tr th {\n",
       "        vertical-align: top;\n",
       "    }\n",
       "\n",
       "    .dataframe thead th {\n",
       "        text-align: right;\n",
       "    }\n",
       "</style>\n",
       "<table border=\"1\" class=\"dataframe\">\n",
       "  <thead>\n",
       "    <tr style=\"text-align: right;\">\n",
       "      <th></th>\n",
       "      <th>price_cleaned</th>\n",
       "      <th>nb_rooms</th>\n",
       "      <th>nb_baths</th>\n",
       "      <th>surface_area</th>\n",
       "    </tr>\n",
       "  </thead>\n",
       "  <tbody>\n",
       "    <tr>\n",
       "      <th>count</th>\n",
       "      <td>1.193000e+03</td>\n",
       "      <td>1.760000e+03</td>\n",
       "      <td>1.760000e+03</td>\n",
       "      <td>1.760000e+03</td>\n",
       "    </tr>\n",
       "    <tr>\n",
       "      <th>mean</th>\n",
       "      <td>-2.322814e-16</td>\n",
       "      <td>-2.422305e-16</td>\n",
       "      <td>1.211152e-17</td>\n",
       "      <td>-1.150595e-16</td>\n",
       "    </tr>\n",
       "    <tr>\n",
       "      <th>std</th>\n",
       "      <td>1.000419e+00</td>\n",
       "      <td>1.000284e+00</td>\n",
       "      <td>1.000284e+00</td>\n",
       "      <td>1.000284e+00</td>\n",
       "    </tr>\n",
       "    <tr>\n",
       "      <th>min</th>\n",
       "      <td>-1.290793e+00</td>\n",
       "      <td>-2.075270e+00</td>\n",
       "      <td>-3.228885e+00</td>\n",
       "      <td>-2.279238e+00</td>\n",
       "    </tr>\n",
       "    <tr>\n",
       "      <th>25%</th>\n",
       "      <td>-7.281140e-01</td>\n",
       "      <td>-4.270412e-01</td>\n",
       "      <td>-1.380206e+00</td>\n",
       "      <td>-3.473487e-01</td>\n",
       "    </tr>\n",
       "    <tr>\n",
       "      <th>50%</th>\n",
       "      <td>-2.357388e-01</td>\n",
       "      <td>-4.270412e-01</td>\n",
       "      <td>4.684719e-01</td>\n",
       "      <td>-1.466329e-01</td>\n",
       "    </tr>\n",
       "    <tr>\n",
       "      <th>75%</th>\n",
       "      <td>4.375090e-01</td>\n",
       "      <td>1.221188e+00</td>\n",
       "      <td>4.684719e-01</td>\n",
       "      <td>5.408293e-02</td>\n",
       "    </tr>\n",
       "    <tr>\n",
       "      <th>max</th>\n",
       "      <td>4.248694e+00</td>\n",
       "      <td>2.869417e+00</td>\n",
       "      <td>2.317150e+00</td>\n",
       "      <td>4.676317e+00</td>\n",
       "    </tr>\n",
       "  </tbody>\n",
       "</table>\n",
       "</div>"
      ],
      "text/plain": [
       "       price_cleaned      nb_rooms      nb_baths  surface_area\n",
       "count   1.193000e+03  1.760000e+03  1.760000e+03  1.760000e+03\n",
       "mean   -2.322814e-16 -2.422305e-16  1.211152e-17 -1.150595e-16\n",
       "std     1.000419e+00  1.000284e+00  1.000284e+00  1.000284e+00\n",
       "min    -1.290793e+00 -2.075270e+00 -3.228885e+00 -2.279238e+00\n",
       "25%    -7.281140e-01 -4.270412e-01 -1.380206e+00 -3.473487e-01\n",
       "50%    -2.357388e-01 -4.270412e-01  4.684719e-01 -1.466329e-01\n",
       "75%     4.375090e-01  1.221188e+00  4.684719e-01  5.408293e-02\n",
       "max     4.248694e+00  2.869417e+00  2.317150e+00  4.676317e+00"
      ]
     },
     "execution_count": 29,
     "metadata": {},
     "output_type": "execute_result"
    }
   ],
   "source": [
    "# Standardize numerical columns for consistency\n",
    "from sklearn.preprocessing import StandardScaler\n",
    "\n",
    "# Select columns to standardize\n",
    "scaler = StandardScaler()\n",
    "new_data[['price_cleaned', 'nb_rooms', 'nb_baths', 'surface_area']] = scaler.fit_transform(new_data[['price_cleaned', 'nb_rooms', 'nb_baths', 'surface_area']])\n",
    "\n",
    "# Display the summary of standardized columns\n",
    "standardized_summary = new_data[['price_cleaned', 'nb_rooms', 'nb_baths', 'surface_area']].describe()\n",
    "standardized_summary\n"
   ]
  },
  {
   "cell_type": "code",
   "execution_count": null,
   "metadata": {},
   "outputs": [],
   "source": []
  }
 ],
 "metadata": {
  "kernelspec": {
   "display_name": "me",
   "language": "python",
   "name": "python3"
  },
  "language_info": {
   "codemirror_mode": {
    "name": "ipython",
    "version": 3
   },
   "file_extension": ".py",
   "mimetype": "text/x-python",
   "name": "python",
   "nbconvert_exporter": "python",
   "pygments_lexer": "ipython3",
   "version": "3.12.3"
  }
 },
 "nbformat": 4,
 "nbformat_minor": 2
}
